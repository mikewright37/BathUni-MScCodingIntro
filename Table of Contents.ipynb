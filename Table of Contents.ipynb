{
 "cells": [
  {
   "cell_type": "markdown",
   "metadata": {},
   "source": [
    "*Remember to close this Notebook using File → Close and Halt once you have opened the one you want to work on.* \n",
    "\n",
    "# Table of Contents\n",
    "* ### Chapter 0 – Introduction\n",
    " * [0.0 – Welcome](./Welcome!%20Start%20Here.ipynb)\n",
    " * [0.1 – Using Jupyter Notebooks](./Chapter%200/0.1.ipynb)\n",
    " * [0.2 – Demo Notebook](./Chapter%200/0.2.ipynb)\n",
    "* ### Chapter 1 – The Basics\n",
    " * [1.1 – Expressions](./Chapter%201/1.1.ipynb)\n",
    " * [1.2 – Variables](./Chapter%201/1.2.ipynb)\n",
    " * [1.3 – Type](./Chapter%201/1.3.ipynb)\n",
    " * [1.4 – Strings](./Chapter%201/1.4.ipynb)\n",
    "* ### Chapter 2 – Code Structure\n",
    " * [2.1 – Inbuilt Functions](./Chapter%202/2.1.ipynb)\n",
    " * [2.2 – Custom Functions](./Chapter%202/2.2.ipynb)\n",
    " * [2.3 – Selection](./Chapter%202/2.3.ipynb)\n",
    " * [2.4 – Iteration](./Chapter%202/2.4.ipynb)\n",
    " * [2.5 – Recursion](./Chapter%202/2.5.ipynb)"
   ]
  },
  {
   "cell_type": "code",
   "execution_count": null,
   "metadata": {},
   "outputs": [],
   "source": []
  }
 ],
 "metadata": {
  "kernelspec": {
   "display_name": "Python 3",
   "language": "python",
   "name": "python3"
  },
  "language_info": {
   "codemirror_mode": {
    "name": "ipython",
    "version": 3
   },
   "file_extension": ".py",
   "mimetype": "text/x-python",
   "name": "python",
   "nbconvert_exporter": "python",
   "pygments_lexer": "ipython3",
   "version": "3.7.6"
  }
 },
 "nbformat": 4,
 "nbformat_minor": 2
}
